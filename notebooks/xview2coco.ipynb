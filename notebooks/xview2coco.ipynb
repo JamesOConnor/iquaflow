{
 "cells": [
  {
   "cell_type": "code",
   "execution_count": 1,
   "metadata": {},
   "outputs": [],
   "source": [
    "import csv\n",
    "import json"
   ]
  },
  {
   "cell_type": "code",
   "execution_count": 2,
   "metadata": {},
   "outputs": [
    {
     "data": {
      "text/plain": [
       "601727"
      ]
     },
     "execution_count": 2,
     "metadata": {},
     "output_type": "execute_result"
    }
   ],
   "source": [
    "ann_dicts = []\n",
    "with open('../tests/test_datasets/ds_xview_dataset/df_all_dataset.csv', newline='') as csvfile:\n",
    "    reader = csv.DictReader(csvfile)\n",
    "    for row in reader:\n",
    "        ann_dicts.append(row)\n",
    "len(ann_dicts)"
   ]
  },
  {
   "cell_type": "code",
   "execution_count": 3,
   "metadata": {
    "scrolled": true
   },
   "outputs": [
    {
     "data": {
      "text/plain": [
       "OrderedDict([('', '0'),\n",
       "             ('original_W', '2973'),\n",
       "             ('original_H', '2769'),\n",
       "             ('Unnamed: 0', '0'),\n",
       "             ('Unnamed: 0.1', '0'),\n",
       "             ('classname', 'Small Car'),\n",
       "             ('chips', '1568.tif'),\n",
       "             ('x_min', '2921.0'),\n",
       "             ('y_min', '456.0'),\n",
       "             ('x_max', '2931.0'),\n",
       "             ('y_max', '469.0'),\n",
       "             ('classID', '18.0'),\n",
       "             ('cassID60', '5')])"
      ]
     },
     "execution_count": 3,
     "metadata": {},
     "output_type": "execute_result"
    }
   ],
   "source": [
    "ann_dicts[0]"
   ]
  },
  {
   "cell_type": "markdown",
   "metadata": {},
   "source": [
    "## Images"
   ]
  },
  {
   "cell_type": "code",
   "execution_count": 4,
   "metadata": {},
   "outputs": [
    {
     "data": {
      "text/plain": [
       "601727"
      ]
     },
     "execution_count": 4,
     "metadata": {},
     "output_type": "execute_result"
    }
   ],
   "source": [
    "imgs = []\n",
    "for a in ann_dicts:\n",
    "    imgs.append(a['chips'])\n",
    "len(imgs)"
   ]
  },
  {
   "cell_type": "code",
   "execution_count": 5,
   "metadata": {},
   "outputs": [
    {
     "data": {
      "text/plain": [
       "846"
      ]
     },
     "execution_count": 5,
     "metadata": {},
     "output_type": "execute_result"
    }
   ],
   "source": [
    "img_files = list(set(imgs))\n",
    "img_files.sort(key=lambda x: int(x.split('.')[0]))\n",
    "len(img_files)"
   ]
  },
  {
   "cell_type": "code",
   "execution_count": 6,
   "metadata": {},
   "outputs": [
    {
     "data": {
      "text/plain": [
       "['5.tif',\n",
       " '8.tif',\n",
       " '10.tif',\n",
       " '18.tif',\n",
       " '20.tif',\n",
       " '24.tif',\n",
       " '31.tif',\n",
       " '33.tif',\n",
       " '38.tif',\n",
       " '40.tif']"
      ]
     },
     "execution_count": 6,
     "metadata": {},
     "output_type": "execute_result"
    }
   ],
   "source": [
    "img_files[:10]"
   ]
  },
  {
   "cell_type": "code",
   "execution_count": 7,
   "metadata": {},
   "outputs": [
    {
     "data": {
      "text/plain": [
       "846"
      ]
     },
     "execution_count": 7,
     "metadata": {},
     "output_type": "execute_result"
    }
   ],
   "source": [
    "images = []\n",
    "for img in img_files:\n",
    "    images.append({'file_name': img, 'id': int(img.split('.')[0])})\n",
    "len(images)"
   ]
  },
  {
   "cell_type": "code",
   "execution_count": 8,
   "metadata": {
    "scrolled": true
   },
   "outputs": [
    {
     "data": {
      "text/plain": [
       "[{'file_name': '5.tif', 'id': 5},\n",
       " {'file_name': '8.tif', 'id': 8},\n",
       " {'file_name': '10.tif', 'id': 10},\n",
       " {'file_name': '18.tif', 'id': 18},\n",
       " {'file_name': '20.tif', 'id': 20}]"
      ]
     },
     "execution_count": 8,
     "metadata": {},
     "output_type": "execute_result"
    }
   ],
   "source": [
    "images[:5]"
   ]
  },
  {
   "cell_type": "markdown",
   "metadata": {},
   "source": [
    "## Categories"
   ]
  },
  {
   "cell_type": "code",
   "execution_count": 9,
   "metadata": {},
   "outputs": [
    {
     "data": {
      "text/plain": [
       "601727"
      ]
     },
     "execution_count": 9,
     "metadata": {},
     "output_type": "execute_result"
    }
   ],
   "source": [
    "class_tuples = []\n",
    "for row in ann_dicts:\n",
    "    class_tuples.append((row['classname'], int(row['cassID60'])))\n",
    "len(class_tuples)"
   ]
  },
  {
   "cell_type": "code",
   "execution_count": 10,
   "metadata": {},
   "outputs": [
    {
     "data": {
      "text/plain": [
       "60"
      ]
     },
     "execution_count": 10,
     "metadata": {},
     "output_type": "execute_result"
    }
   ],
   "source": [
    "class_tuples = list(set(class_tuples))\n",
    "class_tuples.sort(key=lambda x: x[1])\n",
    "len(class_tuples)"
   ]
  },
  {
   "cell_type": "code",
   "execution_count": 11,
   "metadata": {},
   "outputs": [
    {
     "data": {
      "text/plain": [
       "[('Fixed-wing Aircraft', 0),\n",
       " ('Small Aircraft', 1),\n",
       " ('Passenger/Cargo Plane', 2),\n",
       " ('Helicopter', 3),\n",
       " ('Passenger Vehicle', 4),\n",
       " ('Small Car', 5),\n",
       " ('Bus', 6),\n",
       " ('Pickup Truck', 7),\n",
       " ('Utility Truck', 8),\n",
       " ('Truck', 9),\n",
       " ('Cargo Truck', 10),\n",
       " ('Truck Tractor w/ Box Trailer', 11),\n",
       " ('Truck Tractor', 12),\n",
       " ('Trailer', 13),\n",
       " ('Truck Tractor w/ Flatbed Trailer', 14),\n",
       " ('Truck Tractor w/ Liquid Tank', 15),\n",
       " ('Crane Truck', 16),\n",
       " ('Railway Vehicle', 17),\n",
       " ('Passenger Car', 18),\n",
       " ('Cargo/Container Car', 19),\n",
       " ('Flat Car', 20),\n",
       " ('Tank car', 21),\n",
       " ('Locomotive', 22),\n",
       " ('Maritime Vessel', 23),\n",
       " ('Motorboat', 24),\n",
       " ('Sailboat', 25),\n",
       " ('Tugboat', 26),\n",
       " ('Barge', 27),\n",
       " ('Fishing Vessel', 28),\n",
       " ('Ferry', 29),\n",
       " ('Yacht', 30),\n",
       " ('Container Ship', 31),\n",
       " ('Oil Tanker', 32),\n",
       " ('Engineering Vehicle', 33),\n",
       " ('Tower crane', 34),\n",
       " ('Container Crane', 35),\n",
       " ('Reach Stacker', 36),\n",
       " ('Straddle Carrier', 37),\n",
       " ('Mobile Crane', 38),\n",
       " ('Dump Truck', 39),\n",
       " ('Haul Truck', 40),\n",
       " ('Scraper/Tractor', 41),\n",
       " ('Front loader/Bulldozer', 42),\n",
       " ('Excavator', 43),\n",
       " ('Cement Mixer', 44),\n",
       " ('Ground Grader', 45),\n",
       " ('Hut/Tent', 46),\n",
       " ('Shed', 47),\n",
       " ('Building', 48),\n",
       " ('Aircraft Hangar', 49),\n",
       " ('Damaged Building', 50),\n",
       " ('Facility', 51),\n",
       " ('Construction Site', 52),\n",
       " ('Vehicle Lot', 53),\n",
       " ('Helipad', 54),\n",
       " ('Storage Tank', 55),\n",
       " ('Shipping container lot', 56),\n",
       " ('Shipping Container', 57),\n",
       " ('Pylon', 58),\n",
       " ('Tower', 59)]"
      ]
     },
     "execution_count": 11,
     "metadata": {},
     "output_type": "execute_result"
    }
   ],
   "source": [
    "class_tuples"
   ]
  },
  {
   "cell_type": "code",
   "execution_count": 12,
   "metadata": {},
   "outputs": [],
   "source": [
    "categories = []\n",
    "for cat in class_tuples:\n",
    "    categories.append({'supercategory': cat[0], 'id': cat[1], 'name': cat[0]})\n",
    "#     categories.append({'supercategory': cat[0], 'id': cat[1] + 1, 'name': cat[0]})"
   ]
  },
  {
   "cell_type": "code",
   "execution_count": 13,
   "metadata": {},
   "outputs": [
    {
     "data": {
      "text/plain": [
       "[{'supercategory': 'Fixed-wing Aircraft',\n",
       "  'id': 0,\n",
       "  'name': 'Fixed-wing Aircraft'},\n",
       " {'supercategory': 'Small Aircraft', 'id': 1, 'name': 'Small Aircraft'},\n",
       " {'supercategory': 'Passenger/Cargo Plane',\n",
       "  'id': 2,\n",
       "  'name': 'Passenger/Cargo Plane'},\n",
       " {'supercategory': 'Helicopter', 'id': 3, 'name': 'Helicopter'},\n",
       " {'supercategory': 'Passenger Vehicle', 'id': 4, 'name': 'Passenger Vehicle'},\n",
       " {'supercategory': 'Small Car', 'id': 5, 'name': 'Small Car'},\n",
       " {'supercategory': 'Bus', 'id': 6, 'name': 'Bus'},\n",
       " {'supercategory': 'Pickup Truck', 'id': 7, 'name': 'Pickup Truck'},\n",
       " {'supercategory': 'Utility Truck', 'id': 8, 'name': 'Utility Truck'},\n",
       " {'supercategory': 'Truck', 'id': 9, 'name': 'Truck'},\n",
       " {'supercategory': 'Cargo Truck', 'id': 10, 'name': 'Cargo Truck'},\n",
       " {'supercategory': 'Truck Tractor w/ Box Trailer',\n",
       "  'id': 11,\n",
       "  'name': 'Truck Tractor w/ Box Trailer'},\n",
       " {'supercategory': 'Truck Tractor', 'id': 12, 'name': 'Truck Tractor'},\n",
       " {'supercategory': 'Trailer', 'id': 13, 'name': 'Trailer'},\n",
       " {'supercategory': 'Truck Tractor w/ Flatbed Trailer',\n",
       "  'id': 14,\n",
       "  'name': 'Truck Tractor w/ Flatbed Trailer'},\n",
       " {'supercategory': 'Truck Tractor w/ Liquid Tank',\n",
       "  'id': 15,\n",
       "  'name': 'Truck Tractor w/ Liquid Tank'},\n",
       " {'supercategory': 'Crane Truck', 'id': 16, 'name': 'Crane Truck'},\n",
       " {'supercategory': 'Railway Vehicle', 'id': 17, 'name': 'Railway Vehicle'},\n",
       " {'supercategory': 'Passenger Car', 'id': 18, 'name': 'Passenger Car'},\n",
       " {'supercategory': 'Cargo/Container Car',\n",
       "  'id': 19,\n",
       "  'name': 'Cargo/Container Car'},\n",
       " {'supercategory': 'Flat Car', 'id': 20, 'name': 'Flat Car'},\n",
       " {'supercategory': 'Tank car', 'id': 21, 'name': 'Tank car'},\n",
       " {'supercategory': 'Locomotive', 'id': 22, 'name': 'Locomotive'},\n",
       " {'supercategory': 'Maritime Vessel', 'id': 23, 'name': 'Maritime Vessel'},\n",
       " {'supercategory': 'Motorboat', 'id': 24, 'name': 'Motorboat'},\n",
       " {'supercategory': 'Sailboat', 'id': 25, 'name': 'Sailboat'},\n",
       " {'supercategory': 'Tugboat', 'id': 26, 'name': 'Tugboat'},\n",
       " {'supercategory': 'Barge', 'id': 27, 'name': 'Barge'},\n",
       " {'supercategory': 'Fishing Vessel', 'id': 28, 'name': 'Fishing Vessel'},\n",
       " {'supercategory': 'Ferry', 'id': 29, 'name': 'Ferry'},\n",
       " {'supercategory': 'Yacht', 'id': 30, 'name': 'Yacht'},\n",
       " {'supercategory': 'Container Ship', 'id': 31, 'name': 'Container Ship'},\n",
       " {'supercategory': 'Oil Tanker', 'id': 32, 'name': 'Oil Tanker'},\n",
       " {'supercategory': 'Engineering Vehicle',\n",
       "  'id': 33,\n",
       "  'name': 'Engineering Vehicle'},\n",
       " {'supercategory': 'Tower crane', 'id': 34, 'name': 'Tower crane'},\n",
       " {'supercategory': 'Container Crane', 'id': 35, 'name': 'Container Crane'},\n",
       " {'supercategory': 'Reach Stacker', 'id': 36, 'name': 'Reach Stacker'},\n",
       " {'supercategory': 'Straddle Carrier', 'id': 37, 'name': 'Straddle Carrier'},\n",
       " {'supercategory': 'Mobile Crane', 'id': 38, 'name': 'Mobile Crane'},\n",
       " {'supercategory': 'Dump Truck', 'id': 39, 'name': 'Dump Truck'},\n",
       " {'supercategory': 'Haul Truck', 'id': 40, 'name': 'Haul Truck'},\n",
       " {'supercategory': 'Scraper/Tractor', 'id': 41, 'name': 'Scraper/Tractor'},\n",
       " {'supercategory': 'Front loader/Bulldozer',\n",
       "  'id': 42,\n",
       "  'name': 'Front loader/Bulldozer'},\n",
       " {'supercategory': 'Excavator', 'id': 43, 'name': 'Excavator'},\n",
       " {'supercategory': 'Cement Mixer', 'id': 44, 'name': 'Cement Mixer'},\n",
       " {'supercategory': 'Ground Grader', 'id': 45, 'name': 'Ground Grader'},\n",
       " {'supercategory': 'Hut/Tent', 'id': 46, 'name': 'Hut/Tent'},\n",
       " {'supercategory': 'Shed', 'id': 47, 'name': 'Shed'},\n",
       " {'supercategory': 'Building', 'id': 48, 'name': 'Building'},\n",
       " {'supercategory': 'Aircraft Hangar', 'id': 49, 'name': 'Aircraft Hangar'},\n",
       " {'supercategory': 'Damaged Building', 'id': 50, 'name': 'Damaged Building'},\n",
       " {'supercategory': 'Facility', 'id': 51, 'name': 'Facility'},\n",
       " {'supercategory': 'Construction Site', 'id': 52, 'name': 'Construction Site'},\n",
       " {'supercategory': 'Vehicle Lot', 'id': 53, 'name': 'Vehicle Lot'},\n",
       " {'supercategory': 'Helipad', 'id': 54, 'name': 'Helipad'},\n",
       " {'supercategory': 'Storage Tank', 'id': 55, 'name': 'Storage Tank'},\n",
       " {'supercategory': 'Shipping container lot',\n",
       "  'id': 56,\n",
       "  'name': 'Shipping container lot'},\n",
       " {'supercategory': 'Shipping Container',\n",
       "  'id': 57,\n",
       "  'name': 'Shipping Container'},\n",
       " {'supercategory': 'Pylon', 'id': 58, 'name': 'Pylon'},\n",
       " {'supercategory': 'Tower', 'id': 59, 'name': 'Tower'}]"
      ]
     },
     "execution_count": 13,
     "metadata": {},
     "output_type": "execute_result"
    }
   ],
   "source": [
    "categories"
   ]
  },
  {
   "cell_type": "markdown",
   "metadata": {},
   "source": [
    "## Annotations"
   ]
  },
  {
   "cell_type": "code",
   "execution_count": 14,
   "metadata": {},
   "outputs": [
    {
     "data": {
      "text/plain": [
       "601727"
      ]
     },
     "execution_count": 14,
     "metadata": {},
     "output_type": "execute_result"
    }
   ],
   "source": [
    "annotations = []\n",
    "for k, row in enumerate(ann_dicts):\n",
    "    new_an = {'image_id': int(row['chips'].split('.')[0]),\n",
    "              'bbox': [float(row['x_min']),\n",
    "                       float(row['y_min']),\n",
    "                       float(row['x_max']) - float(row['x_min']),\n",
    "                       float(row['y_max']) - float(row['y_min'])],\n",
    "              'category_id': int(row['cassID60']),\n",
    "              'id': k}\n",
    "    annotations.append(new_an)\n",
    "len(annotations)"
   ]
  },
  {
   "cell_type": "code",
   "execution_count": 15,
   "metadata": {
    "scrolled": true
   },
   "outputs": [
    {
     "data": {
      "text/plain": [
       "[{'image_id': 1568,\n",
       "  'bbox': [2921.0, 456.0, 10.0, 13.0],\n",
       "  'category_id': 5,\n",
       "  'id': 0},\n",
       " {'image_id': 1568,\n",
       "  'bbox': [2896.0, 1380.0, 58.0, 50.0],\n",
       "  'category_id': 48,\n",
       "  'id': 1},\n",
       " {'image_id': 1568,\n",
       "  'bbox': [2905.0, 1320.0, 55.0, 54.0],\n",
       "  'category_id': 48,\n",
       "  'id': 2},\n",
       " {'image_id': 1568,\n",
       "  'bbox': [2929.0, 833.0, 13.0, 7.0],\n",
       "  'category_id': 5,\n",
       "  'id': 3},\n",
       " {'image_id': 1568,\n",
       "  'bbox': [2802.0, 1416.0, 158.0, 328.0],\n",
       "  'category_id': 48,\n",
       "  'id': 4}]"
      ]
     },
     "execution_count": 15,
     "metadata": {},
     "output_type": "execute_result"
    }
   ],
   "source": [
    "annotations[:5]"
   ]
  },
  {
   "cell_type": "markdown",
   "metadata": {},
   "source": [
    "## Build Json"
   ]
  },
  {
   "cell_type": "code",
   "execution_count": 16,
   "metadata": {},
   "outputs": [],
   "source": [
    "xview_coco = {'images': images,\n",
    "              'annotations': annotations,\n",
    "              'categories': categories}"
   ]
  },
  {
   "cell_type": "code",
   "execution_count": 19,
   "metadata": {
    "scrolled": true
   },
   "outputs": [
    {
     "data": {
      "text/plain": [
       "{'file_name': '5.tif', 'id': 5}"
      ]
     },
     "execution_count": 19,
     "metadata": {},
     "output_type": "execute_result"
    }
   ],
   "source": [
    "xview_coco['images'][0]"
   ]
  },
  {
   "cell_type": "code",
   "execution_count": 20,
   "metadata": {},
   "outputs": [
    {
     "data": {
      "text/plain": [
       "{'image_id': 1568,\n",
       " 'bbox': [2921.0, 456.0, 10.0, 13.0],\n",
       " 'category_id': 5,\n",
       " 'id': 0}"
      ]
     },
     "execution_count": 20,
     "metadata": {},
     "output_type": "execute_result"
    }
   ],
   "source": [
    "xview_coco['annotations'][0]"
   ]
  },
  {
   "cell_type": "code",
   "execution_count": 21,
   "metadata": {},
   "outputs": [
    {
     "data": {
      "text/plain": [
       "{'supercategory': 'Fixed-wing Aircraft',\n",
       " 'id': 0,\n",
       " 'name': 'Fixed-wing Aircraft'}"
      ]
     },
     "execution_count": 21,
     "metadata": {},
     "output_type": "execute_result"
    }
   ],
   "source": [
    "xview_coco['categories'][0]"
   ]
  },
  {
   "cell_type": "code",
   "execution_count": null,
   "metadata": {},
   "outputs": [],
   "source": [
    "with open('../tests/test_datasets/ds_xview_dataset/df_all_dataset.json', 'w') as json_file:\n",
    "    json.dump(xview_coco, json_file)"
   ]
  }
 ],
 "metadata": {
  "kernelspec": {
   "display_name": "Python 3.7.7 64-bit ('iqt-env': conda)",
   "language": "python",
   "name": "python37764bitiqtenvconda67bd03653bcd47bd93d25877dc8d203f"
  },
  "language_info": {
   "codemirror_mode": {
    "name": "ipython",
    "version": 3
   },
   "file_extension": ".py",
   "mimetype": "text/x-python",
   "name": "python",
   "nbconvert_exporter": "python",
   "pygments_lexer": "ipython3",
   "version": "3.7.9"
  }
 },
 "nbformat": 4,
 "nbformat_minor": 4
}
